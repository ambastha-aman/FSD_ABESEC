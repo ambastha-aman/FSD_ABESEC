{
 "cells": [
  {
   "cell_type": "code",
   "execution_count": 1,
   "metadata": {},
   "outputs": [
    {
     "name": "stdout",
     "output_type": "stream",
     "text": [
      "Original DataFrame:\n",
      "      Name   Age   Salary\n",
      "0    Alice  25.0  50000.0\n",
      "1      Bob   NaN  60000.0\n",
      "2  Charlie  30.0      NaN\n",
      "3    David  28.0  45000.0\n",
      "4      Eve   NaN  70000.0\n"
     ]
    }
   ],
   "source": [
    "import pandas as pd\n",
    "\n",
    "# Sample data\n",
    "data = {\n",
    "    'Name': ['Alice', 'Bob', 'Charlie', 'David', 'Eve'],\n",
    "    'Age': [25, None, 30, 28, None],\n",
    "    'Salary': [50000, 60000, None, 45000, 70000]\n",
    "}\n",
    "\n",
    "df = pd.DataFrame(data)\n",
    "print(\"Original DataFrame:\")\n",
    "print(df)\n"
   ]
  },
  {
   "cell_type": "code",
   "execution_count": 2,
   "metadata": {},
   "outputs": [
    {
     "name": "stdout",
     "output_type": "stream",
     "text": [
      "\n",
      "DataFrame after dropping missing values:\n",
      "    Name   Age   Salary\n",
      "0  Alice  25.0  50000.0\n",
      "3  David  28.0  45000.0\n"
     ]
    }
   ],
   "source": [
    "df_dropped = df.dropna()\n",
    "print(\"\\nDataFrame after dropping missing values:\")\n",
    "print(df_dropped)\n"
   ]
  },
  {
   "cell_type": "code",
   "execution_count": 3,
   "metadata": {},
   "outputs": [
    {
     "name": "stdout",
     "output_type": "stream",
     "text": [
      "\n",
      "DataFrame after filling missing values:\n",
      "      Name        Age   Salary\n",
      "0    Alice  25.000000  50000.0\n",
      "1      Bob  27.666667  60000.0\n",
      "2  Charlie  30.000000  55000.0\n",
      "3    David  28.000000  45000.0\n",
      "4      Eve  27.666667  70000.0\n"
     ]
    }
   ],
   "source": [
    "df_filled = df.fillna({\n",
    "    'Age': df['Age'].mean(),     # Fill Age with mean\n",
    "    'Salary': df['Salary'].median()  # Fill Salary with median\n",
    "})\n",
    "\n",
    "print(\"\\nDataFrame after filling missing values:\")\n",
    "print(df_filled)\n"
   ]
  },
  {
   "cell_type": "code",
   "execution_count": 4,
   "metadata": {},
   "outputs": [],
   "source": [
    "def min_max_normalize(column):\n",
    "    return (column - column.min()) / (column.max() - column.min())\n"
   ]
  },
  {
   "cell_type": "code",
   "execution_count": 5,
   "metadata": {},
   "outputs": [
    {
     "name": "stdout",
     "output_type": "stream",
     "text": [
      "\n",
      "DataFrame after Min-Max Normalization:\n",
      "      Name        Age  Age_Normalized   Salary  Salary_Normalized\n",
      "0    Alice  25.000000        0.000000  50000.0                0.2\n",
      "1      Bob  27.666667        0.533333  60000.0                0.6\n",
      "2  Charlie  30.000000        1.000000  55000.0                0.4\n",
      "3    David  28.000000        0.600000  45000.0                0.0\n",
      "4      Eve  27.666667        0.533333  70000.0                1.0\n"
     ]
    }
   ],
   "source": [
    "df_filled['Age_Normalized'] = min_max_normalize(df_filled['Age'])\n",
    "df_filled['Salary_Normalized'] = min_max_normalize(df_filled['Salary'])\n",
    "\n",
    "print(\"\\nDataFrame after Min-Max Normalization:\")\n",
    "print(df_filled[['Name', 'Age', 'Age_Normalized', 'Salary', 'Salary_Normalized']])\n"
   ]
  },
  {
   "cell_type": "code",
   "execution_count": null,
   "metadata": {},
   "outputs": [],
   "source": []
  }
 ],
 "metadata": {
  "kernelspec": {
   "display_name": "Python 3",
   "language": "python",
   "name": "python3"
  },
  "language_info": {
   "codemirror_mode": {
    "name": "ipython",
    "version": 3
   },
   "file_extension": ".py",
   "mimetype": "text/x-python",
   "name": "python",
   "nbconvert_exporter": "python",
   "pygments_lexer": "ipython3",
   "version": "3.11.5"
  }
 },
 "nbformat": 4,
 "nbformat_minor": 2
}
